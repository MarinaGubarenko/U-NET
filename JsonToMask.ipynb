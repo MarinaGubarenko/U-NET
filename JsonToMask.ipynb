{
 "cells": [
  {
   "cell_type": "code",
   "execution_count": 6,
   "metadata": {},
   "outputs": [
    {
     "name": "stdout",
     "output_type": "stream",
     "text": [
      "json_epit/mask/ge400_11mask.png\n",
      "json_epit/mask/ge400_6mask.png\n",
      "json_epit/mask/ge400_7mask.png\n",
      "json_epit/mask/ge400_8mask.png\n",
      "json_epit/mask/ge400_9mask.png\n"
     ]
    }
   ],
   "source": [
    "import json\n",
    "import os\n",
    "import os.path as osp\n",
    "import base64\n",
    "import warnings\n",
    "from labelme import utils \n",
    "import cv2\n",
    "import numpy as np\n",
    " \n",
    " \n",
    "# from sys import argv\n",
    " \n",
    "def mask_from_json(json_path, output_path):\n",
    "\n",
    "    if json_path[-1] == '/':\n",
    "        folder_path = json_path\n",
    "    else:\n",
    "        folder_path = json_path +'/'\n",
    "\n",
    "    if output_path[-1] == '/':\n",
    "        output_folder_path = output_path\n",
    "    else:\n",
    "        output_folder_path = output_path +'/'\n",
    "    \n",
    "    if not os.path.exists(output_folder_path):\n",
    "        os.mkdir(output_folder_path)\n",
    "\n",
    "        \n",
    "    image_path = os.listdir(folder_path)\n",
    "    for i,file in enumerate(image_path):\n",
    "        path = os.path.join(folder_path, image_path[i])\n",
    "        if os.path.isfile(path):\n",
    "            with open(path) as f:\n",
    "                data = json.load(f)\n",
    "            # print(data)\n",
    "            if '.json' in file:\n",
    "                image_name = file.replace('.json','')\n",
    "            else:\n",
    "                image_name = file\n",
    "          \n",
    "            # Reading image parameters\n",
    "            img_height = data['imageHeight']\n",
    "            img_width = data['imageWidth'] \n",
    "            \n",
    "            #Creating black background\n",
    "            img = np.zeros((img_height, img_width), dtype=\"uint8\")\n",
    "            for mask_part in range(0, len(data['shapes'])):\n",
    "                points = data['shapes'][mask_part]['points']\n",
    "                points = np.array(points, np.int32)                \n",
    "                img = cv2.fillPoly(img, [points], 255)\n",
    "            \n",
    "            if not cv2.imwrite(output_folder_path+image_name+'.png', img):\n",
    "                print(output_folder_path+image_name+'.png')\n",
    "                raise Exception(\"Could not write image\")                \n",
    "            else:\n",
    "                print(output_folder_path+image_name+'.png')    \n",
    "\n",
    "\n",
    "\n",
    "json_path = \"json_epit/\"\n",
    "output_path = \"json_epit/mask/\"\n",
    "mask_from_json(json_path, output_path)"
   ]
  }
 ],
 "metadata": {
  "interpreter": {
   "hash": "70e3e97693c7c18ec077bcb1a9b0a38bb13b832cf78a4c9cf3c293cde915c66d"
  },
  "kernelspec": {
   "display_name": "Python 3.8.12 64-bit ('tf2': conda)",
   "language": "python",
   "name": "python3"
  },
  "language_info": {
   "codemirror_mode": {
    "name": "ipython",
    "version": 3
   },
   "file_extension": ".py",
   "mimetype": "text/x-python",
   "name": "python",
   "nbconvert_exporter": "python",
   "pygments_lexer": "ipython3",
   "version": "3.6.13"
  },
  "orig_nbformat": 4
 },
 "nbformat": 4,
 "nbformat_minor": 2
}
