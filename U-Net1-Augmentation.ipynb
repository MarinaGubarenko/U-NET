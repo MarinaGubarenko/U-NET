{
 "cells": [
  {
   "cell_type": "code",
   "execution_count": 9,
   "metadata": {},
   "outputs": [],
   "source": [
    "import os\n",
    "import sys\n",
    "import cv2\n",
    "import shutil\n",
    "from model import My_model\n",
    "import tensorflow as tf \n",
    "import numpy as np\n",
    "from tensorflow.keras.layers import Input, Conv2D, MaxPooling2D,  Lambda\n",
    "from tensorflow.keras.layers import concatenate, Conv2DTranspose\n",
    "from tensorflow.keras.models import Model\n",
    "from tensorflow.keras.optimizers import Adam\n",
    "from tensorflow.keras.preprocessing.image import ImageDataGenerator\n",
    "from tensorflow.keras.callbacks import ModelCheckpoint, EarlyStopping\n",
    "from skimage.io import imread, imshow\n",
    "from skimage.color import gray2rgb\n",
    "from skimage.transform import resize\n",
    "from matplotlib import pyplot as plt\n",
    "from imgaug import augmenters as iaa"
   ]
  },
  {
   "cell_type": "code",
   "execution_count": 2,
   "metadata": {},
   "outputs": [],
   "source": [
    "import zipfile\n",
    "         \n",
    "fantasy_zip = zipfile.ZipFile('jsons/jsons.zip')\n",
    "fantasy_zip.extractall('')\n",
    " \n",
    "fantasy_zip.close()"
   ]
  },
  {
   "cell_type": "code",
   "execution_count": 1,
   "metadata": {},
   "outputs": [],
   "source": [
    "try:\n",
    "    #Create diractories for training, validating and testing\n",
    "    os.mkdir('DataSet1/')\n",
    "    os.makedirs('DataSet1/train')\n",
    "    os.makedirs('DataSet1/train/images')\n",
    "    os.makedirs('DataSet1/train/masks')\n",
    "    os.makedirs('DataSet1/test')\n",
    "    os.makedirs('DataSet1/test/images')\n",
    "    os.makedirs('DataSet1/test/masks')\n",
    "except OSError:\n",
    "    pass"
   ]
  },
  {
   "cell_type": "code",
   "execution_count": 2,
   "metadata": {},
   "outputs": [],
   "source": [
    "def find_files(file_path, file_name):\n",
    "    pf = \"\"\n",
    "    for root, dirs, files in os.walk(file_path):\n",
    "         if file_name in files:\n",
    "            pf = os.path.join(root, file_name)\n",
    "            break\n",
    "    return(pf)"
   ]
  },
  {
   "cell_type": "code",
   "execution_count": 5,
   "metadata": {},
   "outputs": [],
   "source": [
    "#split data on train and validation\n",
    "#a SPLIT SIZE to determine the portion\n",
    "#testing set has 10 images\n",
    "def split_data(SOURCE_IMAGES, SOURCE_MASKS, TRAINING, TESTING, SPLIT_SIZE):\n",
    "    list_samples_images = os.listdir(SOURCE_IMAGES) \n",
    "    \n",
    "    num_train_samples = int(len(list_samples_images) * SPLIT_SIZE)\n",
    "    for file_name in list_samples_images[:num_train_samples]:\n",
    "        path_file = os.path.join(SOURCE_IMAGES, file_name)\n",
    "        if os.path.getsize(path_file) != 0:\n",
    "            path_mask = find_files(SOURCE_MASKS, (file_name[:-4] +'mask.png'))\n",
    "            if path_mask != \"\":\n",
    "                shutil.copyfile(path_file, os.path.join(TRAINING, 'images', file_name))            \n",
    "                shutil.copyfile(path_mask, os.path.join(TRAINING, 'masks', (file_name[:-4] +'mask.png')))\n",
    "    \n",
    "    for file_name in list_samples_images[num_train_samples:]:\n",
    "        path_file = os.path.join(SOURCE_IMAGES, file_name)\n",
    "        if os.path.getsize(path_file) != 0:\n",
    "            path_mask = find_files(SOURCE_MASKS, (file_name[:-4] +'mask.png'))\n",
    "            if path_mask != \"\":\n",
    "                shutil.copyfile(path_file, os.path.join(TESTING, 'images', file_name))\n",
    "                shutil.copyfile(path_mask, os.path.join(TESTING, 'masks', (file_name[:-4] +'mask.png')))\n",
    "\n",
    "SOURCE_DIR_IMAGES = \"jsons/images\"\n",
    "SOURCE_DIR_MASKS = \"jsons/mask\"\n",
    "TRAINING_DIR = \"DataSet/train/\"\n",
    "TESTING_DIR = \"DataSet/test/\"\n",
    "\n",
    "\n",
    "split_size = .9\n",
    "split_data(SOURCE_DIR_IMAGES,SOURCE_DIR_MASKS, TRAINING_DIR, TESTING_DIR, split_size)"
   ]
  },
  {
   "cell_type": "code",
   "execution_count": 2,
   "metadata": {},
   "outputs": [
    {
     "name": "stdout",
     "output_type": "stream",
     "text": [
      "Getting and resizing test images ... \n",
      "(92, 256, 256, 3)\n",
      "(11, 256, 256, 3)\n",
      "Done!\n"
     ]
    }
   ],
   "source": [
    "## SETTINGS\n",
    "IMG_WIDTH = 256\n",
    "IMG_HEIGHT = 256\n",
    "IMG_CHANNELS = 3\n",
    "# Training, validation and testing data path\n",
    "TRAINING_DIR_IMAGES = \"DataSet/train/images/\"\n",
    "TRAINING_DIR_MASKS = \"DataSet/train/masks/\"\n",
    "TEST_DIR_IMAGES = \"DataSet/test/images/\"\n",
    "TEST_DIR_MASKS = \"DataSet/test/masks/\"\n",
    "\n",
    "# Get the ids\n",
    "train_img_ids = next(os.walk(TRAINING_DIR_IMAGES))[2]\n",
    "train_mask_ids = next(os.walk(TRAINING_DIR_MASKS))[2]\n",
    "test_img_ids = next(os.walk(TEST_DIR_IMAGES))[2]\n",
    "test_mask_ids = next(os.walk(TEST_DIR_MASKS))[2]\n",
    "# print(train_img_ids)\n",
    "\n",
    "X_train = np.zeros((len(train_img_ids), IMG_HEIGHT, IMG_WIDTH, IMG_CHANNELS), dtype=np.uint8)\n",
    "Y_train = np.zeros((len(train_img_ids), IMG_HEIGHT, IMG_WIDTH, 1), dtype=bool)\n",
    "sys.stdout.flush()\n",
    "\n",
    "for n, id_ in enumerate(train_img_ids):\n",
    "    img = cv2.imread(TRAINING_DIR_IMAGES + id_)[:, :, :IMG_CHANNELS]\n",
    "    img = resize(img, (IMG_HEIGHT, IMG_WIDTH), mode='constant', preserve_range=True)\n",
    "    X_train[n] = img\n",
    "    mask = np.zeros((IMG_HEIGHT, IMG_WIDTH, 1), dtype=bool)\n",
    "    mask_ = cv2.imread(TRAINING_DIR_MASKS + id_[:-4] + 'mask.png') [:,:,0]\n",
    "    mask_ = np.expand_dims(resize(mask_, (IMG_HEIGHT, IMG_WIDTH), mode='constant', preserve_range=True), axis=-1)\n",
    "    mask = np.maximum(mask, mask_)\n",
    "    Y_train[n] = mask\n",
    "\n",
    "# Load the test data sets\n",
    "X_test = np.zeros((len(test_img_ids), IMG_HEIGHT, IMG_WIDTH, IMG_CHANNELS), dtype=np.uint8)\n",
    "Y_test = np.zeros((len(test_img_ids), IMG_HEIGHT, IMG_WIDTH, 1), dtype=bool)\n",
    "print('Getting and resizing test images ... ')\n",
    "for n, id_ in  enumerate(test_img_ids):\n",
    "    img = cv2.imread(TEST_DIR_IMAGES + id_)[:, :, :IMG_CHANNELS]\n",
    "    img = resize(img, (IMG_HEIGHT, IMG_WIDTH), mode='constant', preserve_range=True)\n",
    "    X_test[n] = img\n",
    "    \n",
    "    mask = np.zeros((IMG_HEIGHT, IMG_WIDTH, 1), dtype=bool)\n",
    "    mask_ = cv2.imread(TEST_DIR_MASKS + id_[:-4]+ 'mask.png')[:,:,0]\n",
    "    mask_ = np.expand_dims(resize(mask_, (IMG_HEIGHT, IMG_WIDTH), mode='constant', preserve_range=True), axis=-1)\n",
    "    mask = np.maximum(mask, mask_)\n",
    "    Y_test[n] = mask\n",
    "\n",
    "print(X_train.shape)\n",
    "print(X_test.shape)\n",
    "print('Done!')\n"
   ]
  },
  {
   "cell_type": "code",
   "execution_count": 10,
   "metadata": {},
   "outputs": [
    {
     "data": {
      "image/png": "[encoded data removed]",
      "text/plain": [
       "<Figure size 432x288 with 1 Axes>"
      ]
     },
     "metadata": {
      "needs_background": "light"
     },
     "output_type": "display_data"
    },
    {
     "name": "stderr",
     "output_type": "stream",
     "text": [
      "C:\\Users\\Maryna_Hubarenko\\anaconda3\\envs\\u_net\\envs\\u-net\\lib\\site-packages\\skimage\\io\\_plugins\\matplotlib_plugin.py:150: UserWarning: Low image data range; displaying image with stretched contrast.\n",
      "  lo, hi, cmap = _get_display_range(image)\n"
     ]
    },
    {
     "data": {
      "image/png": "[encoded data removed]",
      "text/plain": [
       "<Figure size 432x288 with 2 Axes>"
      ]
     },
     "metadata": {
      "needs_background": "light"
     },
     "output_type": "display_data"
    }
   ],
   "source": [
    "for i in range(0,1):\n",
    "    imshow(X_train[i].astype(np.uint8))\n",
    "    plt.show()\n",
    "    imshow(Y_train[i].astype(np.uint8))\n",
    "    plt.show()\n",
    "\n"
   ]
  },
  {
   "cell_type": "code",
   "execution_count": 19,
   "metadata": {},
   "outputs": [],
   "source": [
    "def get_model(IMG_HEIGHT, IMG_WEIGHT, IMG_CHANNELS):\n",
    "        input_size = (IMG_HEIGHT, IMG_WEIGHT, IMG_CHANNELS)\n",
    "        inputs = Input(input_size)\n",
    "        #converting value of pixel from intengers into floating-point by dividing each pixel by 225\n",
    "        s = Lambda(lambda x: x / 255)(inputs)\n",
    "        conv1 = Conv2D(16, (3,3), activation='elu', kernel_initializer='he_normal',padding='same')(s)\n",
    "        conv1 = tf.keras.layers.Dropout(0.1)(conv1)\n",
    "        conv1 = Conv2D(16, (3,3), activation='elu',kernel_initializer='he_normal',padding='same')(conv1)\n",
    "        pool1 = MaxPooling2D(pool_size=(2,2))(conv1)    \n",
    "        conv2 = Conv2D(32, (3,3), activation='elu',kernel_initializer='he_normal',padding='same')(pool1)\n",
    "        conv2 = tf.keras.layers.Dropout(0.1)(conv2)\n",
    "        conv2 = Conv2D(32, (3,3), activation='elu',kernel_initializer='he_normal',padding='same')(conv2)\n",
    "        pool2 = MaxPooling2D(pool_size=(2,2))(conv2)    \n",
    "        conv3 = Conv2D(64, (3,3), activation='elu',kernel_initializer='he_normal',padding='same')(pool2)\n",
    "        conv3 = tf.keras.layers.Dropout(0.0)(conv3)\n",
    "        conv3 = Conv2D(64, (3,3), activation='elu',kernel_initializer='he_normal',padding='same')(conv3)\n",
    "        pool3 = MaxPooling2D(pool_size=(2,2))(conv3)\n",
    "\n",
    "        conv4 = Conv2D(128, (3,3), activation='elu',kernel_initializer='he_normal',padding='same')(pool3)\n",
    "        conv4 = tf.keras.layers.Dropout(0.2)(conv4)\n",
    "        conv4 = Conv2D(128, (3,3), activation='elu',kernel_initializer='he_normal',padding='same')(conv4)\n",
    "        pool4 = MaxPooling2D(pool_size=(2,2))(conv4)\n",
    "\n",
    "        conv5 = Conv2D(256, (3,3), activation='elu',kernel_initializer='he_normal',padding='same')(pool4)\n",
    "        conv5 = tf.keras.layers.Dropout(0.3)(conv5)\n",
    "        conv5 = Conv2D(256, (3,3), activation='elu',kernel_initializer='he_normal',padding='same')(conv5)\n",
    "        \n",
    "        up6 = Conv2DTranspose(128, (2, 2), strides=(2, 2), padding='same')(conv5)\n",
    "        up6 = concatenate([up6, conv4])\n",
    "        conv6 = Conv2D(128, (3,3), activation='elu',kernel_initializer='he_normal',padding='same')(up6)\n",
    "        conv6 = tf.keras.layers.Dropout(0.2)(conv6)\n",
    "        conv6 = Conv2D(128, (3,3), activation='elu',kernel_initializer='he_normal',padding='same')(conv6)\n",
    "        \n",
    "        up7 = Conv2DTranspose(64, (2, 2), strides=(2, 2), padding='same')(conv6)\n",
    "        up7 = concatenate([up7, conv3])\n",
    "        conv7 = Conv2D(64, (3,3), activation='elu',padding='same')(up7)\n",
    "        conv7 = tf.keras.layers.Dropout(0.2)(conv7)\n",
    "        conv7 = Conv2D(64, (3,3), activation='elu',padding='same')(conv7)\n",
    "        \n",
    "        up8 = Conv2DTranspose(32, (2, 2), strides=(2, 2), padding='same')(conv7)\n",
    "        up8 = concatenate([up8, conv2])\n",
    "        conv8 = Conv2D(32, (3,3), activation='elu',kernel_initializer='he_normal',padding='same')(up8)\n",
    "        conv8 = tf.keras.layers.Dropout(0.1)(conv8)\n",
    "        conv8 = Conv2D(32, (3,3), activation='elu',kernel_initializer='he_normal',padding='same')(conv8)\n",
    "        \n",
    "        up9 = Conv2DTranspose(16, (2, 2), strides=(2, 2), padding='same')(conv8)\n",
    "        up9 = concatenate([up9, conv1])\n",
    "        conv9 = Conv2D(16, (3,3), activation='elu',kernel_initializer='he_normal',padding='same')(up9)\n",
    "        conv9 = tf.keras.layers.Dropout(0.1)(conv9)\n",
    "        conv9 = Conv2D(16, (3,3), activation='elu',kernel_initializer='he_normal',padding='same')(conv9)\n",
    "\n",
    "        conv10 = Conv2D(1, (1,1), activation='sigmoid')(conv9)\n",
    "\n",
    "        model = Model(inputs=[inputs], outputs=[conv10])\n",
    "\n",
    "        model.compile(optimizer=Adam(learning_rate=0.001), loss='binary_crossentropy', metrics=['accuracy'])\n",
    "\n",
    "        return model"
   ]
  },
  {
   "cell_type": "code",
   "execution_count": 20,
   "metadata": {},
   "outputs": [],
   "source": [
    "model1 = get_model(IMG_WIDTH, IMG_HEIGHT, IMG_CHANNELS)"
   ]
  },
  {
   "cell_type": "code",
   "execution_count": 17,
   "metadata": {},
   "outputs": [],
   "source": [
    "checkpointer = ModelCheckpoint('model-unet-300.h5', verbose=1)\n",
    "earlystopper = EarlyStopping(monitor='val_loss', patience=6, verbose=1)\n",
    "history = model1.fit(x=X_train, \n",
    "                    y=Y_train,\n",
    "                    validation_split=0.2, \n",
    "                    batch_size=4, \n",
    "                    epochs=300, \n",
    "                    callbacks=[checkpointer])"
   ]
  },
  {
   "cell_type": "code",
   "execution_count": null,
   "metadata": {},
   "outputs": [],
   "source": [
    "# PLOT LOSS AND ACCURACY\n",
    "%matplotlib inline\n",
    "\n",
    "import matplotlib.image  as mpimg\n",
    "import matplotlib.pyplot as plt\n",
    "\n",
    "#-----------------------------------------------------------\n",
    "# Retrieve a list of list results on training and test data\n",
    "# sets for each training epoch\n",
    "#-----------------------------------------------------------\n",
    "acc=history.history['accuracy']\n",
    "val_acc=history.history['val_accuracy']\n",
    "loss=history.history['loss']\n",
    "val_loss=history.history['val_loss']\n",
    "\n",
    "epochs=range(len(acc)) # Get number of epochs\n",
    "\n",
    "#------------------------------------------------\n",
    "# Plot training and validation accuracy per epoch\n",
    "#------------------------------------------------\n",
    "plt.plot(epochs, acc, 'r', \"Training Accuracy\")\n",
    "plt.plot(epochs, val_acc, 'b', \"Validation Accuracy\")\n",
    "plt.title('Training and validation accuracy')\n",
    "plt.figure()\n",
    "\n",
    "#------------------------------------------------\n",
    "# Plot training and validation loss per epoch\n",
    "#------------------------------------------------\n",
    "plt.plot(epochs, loss, 'r', \"Training Loss\")\n",
    "plt.plot(epochs, val_loss, 'b', \"Validation Loss\")\n",
    "\n",
    "\n",
    "plt.title('Training and validation loss')"
   ]
  },
  {
   "cell_type": "code",
   "execution_count": null,
   "metadata": {},
   "outputs": [],
   "source": [
    "list_of_metrics = model.evaluate(X_test, Y_test, batch_size=2, verbose=1, sample_weight=None)\n",
    "index = 0\n",
    "print('\\nMetrics:')\n",
    "for metric in model.metrics_names:\n",
    "    print(metric+ ':' , str(list_of_metrics[index]))\n",
    "    index += 1"
   ]
  },
  {
   "cell_type": "code",
   "execution_count": null,
   "metadata": {},
   "outputs": [],
   "source": [
    "model1.save(\"model-unet-300.h5\")\n",
    "for i in range(0,len(X_test)-1):\n",
    "    x= X_test[i]\n",
    "    x = np.expand_dims(x, axis=0)\n",
    "    predict = model1.predict(x)\n",
    "    predict = np.squeeze(predict)\n",
    "    predict =(predict>0.5).astype(np.uint8)\n",
    "    plt.figure(figsize=(12,6))\n",
    "    plt.subplot(131)\n",
    "    plt.imshow(predict)\n",
    "    plt.subplot(132)\n",
    "    imshow(Y_test[i].astype(np.uint8))\n",
    "    plt.subplot(133)\n",
    "    imshow(X_test[i].astype(np.uint8))\n",
    "    plt.show()"
   ]
  },
  {
   "cell_type": "code",
   "execution_count": null,
   "metadata": {},
   "outputs": [],
   "source": [
    "X_train_aug = np.zeros((len(train_img_ids) * 4, IMG_HEIGHT, IMG_WIDTH, IMG_CHANNELS), dtype=np.float32)\n",
    "Y_train_aug = np.zeros((len(train_img_ids) * 4, IMG_HEIGHT, IMG_WIDTH, 1), dtype=bool)\n",
    "\n",
    "for i in range(0, len(X_train)):\n",
    "    X_train_aug[i * 4] = X_train[i]\n",
    "    Y_train_aug[i * 4] = Y_train[i]\n",
    "    X_train_aug[i * 4 + 1] = X_train[i]\n",
    "    Y_train_aug[i * 4 + 1] = Y_train[i]\n",
    "    X_train_aug[i * 4 + 2] = X_train[i]\n",
    "    Y_train_aug[i * 4 + 2] = Y_train[i]\n",
    "    X_train_aug[i * 4 + 3] = X_train[i]\n",
    "    Y_train_aug[i * 4 + 3] = Y_train[i]\n",
    "\n",
    "seq =iaa.Sequential([\n",
    "    iaa.OneOf([iaa.Affine(translate_px={\"x\": (-10, 10), \"y\": (-10, 10)}), \n",
    "               iaa.Affine(rotate=(-90, 90)),\n",
    "               iaa.Affine(shear=(-20, 20)),\n",
    "               iaa.Crop(percent=(0, 0.15))\n",
    "        ]),\n",
    "    iaa.SomeOf((0,4),[\n",
    "        iaa.Fliplr(1.0), # horizontally flip\n",
    "        iaa.Flipud(1.0),# Vertical flip\n",
    "        iaa.Add((-20,20)),\n",
    "        iaa.Multiply((0.5, 1.5)),\n",
    "        iaa.Sharpen(alpha=(0, 0.4), lightness=(0.5, 1.5)), # sharpen images        \n",
    "        iaa.GaussianBlur(sigma=(0, 0.2)),\n",
    "#         iaa.AdditiveGaussianNoise(scale=(0, 0.2*255))\n",
    "    ])\n",
    "], \n",
    "random_order=True # apply the augmentations in random order\n",
    ")\n",
    "X_train_aug, Y_train_aug = seq(images=X_train_aug, segmentation_maps=Y_train_aug)\n",
    "print(X_train_aug.shape)\n"
   ]
  },
  {
   "cell_type": "code",
   "execution_count": null,
   "metadata": {},
   "outputs": [],
   "source": [
    "model2 = get_model(IMG_WIDTH, IMG_HEIGHT, IMG_CHANNELS)"
   ]
  },
  {
   "cell_type": "code",
   "execution_count": null,
   "metadata": {},
   "outputs": [],
   "source": [
    "checkpointer = ModelCheckpoint('model-unet-aug-300.h5', verbose=1, save_best_only=True)\n",
    "earlystopper = EarlyStopping(monitor='val_loss', patience=6, verbose=1)\n",
    "history = model2.fit(x=X_train_aug, \n",
    "                    y=Y_train_aug,\n",
    "                    validation_split=0.2, \n",
    "                    batch_size=4, \n",
    "                    epochs=300, \n",
    "                    callbacks=[checkpointer])"
   ]
  },
  {
   "cell_type": "code",
   "execution_count": null,
   "metadata": {},
   "outputs": [],
   "source": [
    "model2.save(\"model-unet-aug-300.h5\")\n",
    "for i in range(0,len(X_test)-1):\n",
    "    x= X_test[i]\n",
    "    x = np.expand_dims(x, axis=0)\n",
    "    predict = model1.predict(x)\n",
    "    predict = np.squeeze(predict)\n",
    "    predict =(predict>0.5).astype(np.uint8)\n",
    "    plt.figure(figsize=(12,6))\n",
    "    plt.subplot(131)\n",
    "    plt.imshow(predict)\n",
    "    plt.subplot(132)\n",
    "    imshow(Y_test[i].astype(np.uint8))\n",
    "    plt.subplot(133)\n",
    "    imshow(X_test[i].astype(np.uint8))\n",
    "    plt.show()"
   ]
  },
  {
   "cell_type": "code",
   "execution_count": null,
   "metadata": {},
   "outputs": [],
   "source": [
    "# PLOT LOSS AND ACCURACY\n",
    "%matplotlib inline\n",
    "\n",
    "import matplotlib.image  as mpimg\n",
    "import matplotlib.pyplot as plt\n",
    "\n",
    "#-----------------------------------------------------------\n",
    "# Retrieve a list of list results on training and test data\n",
    "# sets for each training epoch\n",
    "#-----------------------------------------------------------\n",
    "acc=history.history['accuracy']\n",
    "val_acc=history.history['val_accuracy']\n",
    "loss=history.history['loss']\n",
    "val_loss=history.history['val_loss']\n",
    "\n",
    "epochs=range(len(acc)) # Get number of epochs\n",
    "\n",
    "#------------------------------------------------\n",
    "# Plot training and validation accuracy per epoch\n",
    "#------------------------------------------------\n",
    "plt.plot(epochs, acc, 'r', \"Training Accuracy\")\n",
    "plt.plot(epochs, val_acc, 'b', \"Validation Accuracy\")\n",
    "plt.title('Training and validation accuracy')\n",
    "plt.figure()\n",
    "\n",
    "#------------------------------------------------\n",
    "# Plot training and validation loss per epoch\n",
    "#------------------------------------------------\n",
    "plt.plot(epochs, loss, 'r', \"Training Loss\")\n",
    "plt.plot(epochs, val_loss, 'b', \"Validation Loss\")\n",
    "\n",
    "\n",
    "plt.title('Training and validation loss')"
   ]
  }
 ],
 "metadata": {
  "interpreter": {
   "hash": "ee244ee4424fee13dcd051da97e44932b59cf410a7db36bef7a9c18d393e30b3"
  },
  "kernelspec": {
   "display_name": "Python 3",
   "language": "python",
   "name": "python3"
  },
  "language_info": {
   "codemirror_mode": {
    "name": "ipython",
    "version": 3
   },
   "file_extension": ".py",
   "mimetype": "text/x-python",
   "name": "python",
   "nbconvert_exporter": "python",
   "pygments_lexer": "ipython3",
   "version": "3.7.11"
  }
 },
 "nbformat": 4,
 "nbformat_minor": 2
}
