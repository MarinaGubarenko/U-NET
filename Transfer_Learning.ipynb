{
 "cells": [
  {
   "cell_type": "code",
   "execution_count": 78,
   "metadata": {},
   "outputs": [],
   "source": [
    "import os\n",
    "import cv2\n",
    "import sys\n",
    "import shutil\n",
    "import tensorflow as tf \n",
    "import numpy as np\n",
    "from tensorflow.keras.layers import Input, Conv2D\n",
    "from tensorflow.keras.layers import Activation, Concatenate, Conv2DTranspose,BatchNormalization\n",
    "from tensorflow.keras.models import Model\n",
    "from tensorflow.keras.applications import VGG16\n",
    "from tensorflow.keras.optimizers import Adam, RMSprop\n",
    "from tensorflow.keras.preprocessing.image import ImageDataGenerator\n",
    "from tensorflow.keras.callbacks import ModelCheckpoint, EarlyStopping\n",
    "from skimage.io import imread, imshow\n",
    "from skimage.transform import resize\n",
    "from matplotlib import pyplot as plt\n",
    "from imgaug import augmenters as iaa"
   ]
  },
  {
   "cell_type": "code",
   "execution_count": null,
   "metadata": {},
   "outputs": [],
   "source": [
    "def find_files(file_path, file_name):\n",
    "    pf = \"\"\n",
    "    for root, dirs, files in os.walk(file_path):\n",
    "         if file_name in files:\n",
    "            pf = os.path.join(root, file_name)\n",
    "            break\n",
    "    return(pf)"
   ]
  },
  {
   "cell_type": "code",
   "execution_count": null,
   "metadata": {},
   "outputs": [],
   "source": [
    "#split data on train and validation\n",
    "#a SPLIT SIZE to determine the portion\n",
    "#testing set has 10 images\n",
    "def split_data(SOURCE_IMAGES, SOURCE_MASKS, TRAINING, TESTING, SPLIT_SIZE):\n",
    "    list_samples_images = os.listdir(SOURCE_IMAGES) \n",
    "    \n",
    "    num_train_samples = int(len(list_samples_images) * SPLIT_SIZE)\n",
    "    for file_name in list_samples_images[:num_train_samples]:\n",
    "        path_file = os.path.join(SOURCE_IMAGES, file_name)\n",
    "        if os.path.getsize(path_file) != 0:\n",
    "            path_mask = find_files(SOURCE_MASKS, (file_name[:-4] +'mask.png'))\n",
    "            if path_mask != \"\":\n",
    "                shutil.copyfile(path_file, os.path.join(TRAINING, 'images', file_name))            \n",
    "                shutil.copyfile(path_mask, os.path.join(TRAINING, 'masks', (file_name[:-4] +'mask.png')))\n",
    "    \n",
    "    for file_name in list_samples_images[num_train_samples:]:\n",
    "        path_file = os.path.join(SOURCE_IMAGES, file_name)\n",
    "        if os.path.getsize(path_file) != 0:\n",
    "            path_mask = find_files(SOURCE_MASKS, (file_name[:-4] +'mask.png'))\n",
    "            if path_mask != \"\":\n",
    "                shutil.copyfile(path_file, os.path.join(TESTING, 'images', file_name))\n",
    "                shutil.copyfile(path_mask, os.path.join(TESTING, 'masks', (file_name[:-4] +'mask.png')))\n",
    "\n",
    "SOURCE_DIR_IMAGES = \"jsons/images\"\n",
    "SOURCE_DIR_MASKS = \"jsons/mask\"\n",
    "TRAINING_DIR = \"DataSet/train/\"\n",
    "TESTING_DIR = \"DataSet/test/\"\n",
    "\n",
    "\n",
    "split_size = .9\n",
    "split_data(SOURCE_DIR_IMAGES,SOURCE_DIR_MASKS, TRAINING_DIR, TESTING_DIR, split_size)"
   ]
  },
  {
   "cell_type": "code",
   "execution_count": 71,
   "metadata": {},
   "outputs": [
    {
     "name": "stdout",
     "output_type": "stream",
     "text": [
      "Getting and resizing test images ... \n",
      "(75, 512, 512, 3)\n",
      "(18, 512, 512, 3)\n",
      "(9, 512, 512, 3)\n",
      "Done!\n"
     ]
    }
   ],
   "source": [
    "## SETTINGS\n",
    "IMG_WIDTH = 256\n",
    "IMG_HEIGHT = 256\n",
    "IMG_CHANNELS = 3\n",
    "# Training, validation and testing data path\n",
    "TRAINING_DIR_IMAGES = \"DataSet/train/images/\"\n",
    "TRAINING_DIR_MASKS = \"DataSet/train/masks/\"\n",
    "TEST_DIR_IMAGES = \"DataSet/test/images/\"\n",
    "TEST_DIR_MASKS = \"DataSet/test/masks/\"\n",
    "\n",
    "# Get the ids\n",
    "train_img_ids = next(os.walk(TRAINING_DIR_IMAGES))[2]\n",
    "train_mask_ids = next(os.walk(TRAINING_DIR_MASKS))[2]\n",
    "test_img_ids = next(os.walk(TEST_DIR_IMAGES))[2]\n",
    "test_mask_ids = next(os.walk(TEST_DIR_MASKS))[2]\n",
    "# print(train_img_ids)\n",
    "\n",
    "X_train = np.zeros((len(train_img_ids), IMG_HEIGHT, IMG_WIDTH, IMG_CHANNELS), dtype=np.uint8)\n",
    "Y_train = np.zeros((len(train_img_ids), IMG_HEIGHT, IMG_WIDTH, 1), dtype=bool)\n",
    "sys.stdout.flush()\n",
    "\n",
    "for n, id_ in enumerate(train_img_ids):\n",
    "    img = cv2.imread(TRAINING_DIR_IMAGES + id_)[:, :, :IMG_CHANNELS]\n",
    "    img = resize(img, (IMG_HEIGHT, IMG_WIDTH), mode='constant', preserve_range=True)\n",
    "    X_train[n] = img\n",
    "    mask = np.zeros((IMG_HEIGHT, IMG_WIDTH, 1), dtype=bool)\n",
    "    mask_ = cv2.imread(TRAINING_DIR_MASKS + id_[:-4] + 'mask.png') [:,:,0]\n",
    "    mask_ = np.expand_dims(resize(mask_, (IMG_HEIGHT, IMG_WIDTH), mode='constant', preserve_range=True), axis=-1)\n",
    "    mask = np.maximum(mask, mask_)\n",
    "    Y_train[n] = mask\n",
    "\n",
    "# Load the test data sets\n",
    "X_test = np.zeros((len(test_img_ids), IMG_HEIGHT, IMG_WIDTH, IMG_CHANNELS), dtype=np.uint8)\n",
    "Y_test = np.zeros((len(test_img_ids), IMG_HEIGHT, IMG_WIDTH, 1), dtype=bool)\n",
    "print('Getting and resizing test images ... ')\n",
    "for n, id_ in  enumerate(test_img_ids):\n",
    "    img = cv2.imread(TEST_DIR_IMAGES + id_)[:, :, :IMG_CHANNELS]\n",
    "    img = resize(img, (IMG_HEIGHT, IMG_WIDTH), mode='constant', preserve_range=True)\n",
    "    X_test[n] = img\n",
    "    \n",
    "    mask = np.zeros((IMG_HEIGHT, IMG_WIDTH, 1), dtype=bool)\n",
    "    mask_ = cv2.imread(TEST_DIR_MASKS + id_[:-4]+ 'mask.png')[:,:,0]\n",
    "    mask_ = np.expand_dims(resize(mask_, (IMG_HEIGHT, IMG_WIDTH), mode='constant', preserve_range=True), axis=-1)\n",
    "    mask = np.maximum(mask, mask_)\n",
    "    Y_test[n] = mask\n",
    "\n",
    "print(X_train.shape)\n",
    "print(X_test.shape)\n",
    "print('Done!')\n"
   ]
  },
  {
   "cell_type": "code",
   "execution_count": null,
   "metadata": {},
   "outputs": [],
   "source": [
    "for i in range(0,1):\n",
    "    imshow(X_train[i].astype(np.uint8))\n",
    "    plt.show()\n",
    "    imshow(Y_train[i].astype(np.uint8))\n",
    "    plt.show()"
   ]
  },
  {
   "cell_type": "code",
   "execution_count": 79,
   "metadata": {},
   "outputs": [
    {
     "name": "stdout",
     "output_type": "stream",
     "text": [
      "(300, 512, 512, 3)\n",
      "(72, 512, 512, 3)\n",
      "[1 1 1 ... 1 1 1]\n",
      "[1 1 1 ... 1 1 1]\n",
      "(18, 512, 512, 2)\n",
      "(75, 512, 512, 2)\n"
     ]
    }
   ],
   "source": [
    "\n",
    "def conv_block(input, num_filters):\n",
    "    x = Conv2D(num_filters, 3, padding=\"same\")(input)\n",
    "    x = BatchNormalization()(x)\n",
    "    x = Activation(\"relu\")(x)\n",
    "\n",
    "    x = Conv2D(num_filters, 3, padding=\"same\")(x)\n",
    "    x = BatchNormalization()(x)\n",
    "    x = Activation(\"relu\")(x)\n",
    "\n",
    "    return x\n",
    "\n",
    "def decoder_block(input, skip_features, num_filters):\n",
    "    x = Conv2DTranspose(num_filters, (2, 2), strides=2, padding=\"same\")(input)\n",
    "    x = Concatenate()([x, skip_features])\n",
    "    x = conv_block(x, num_filters)\n",
    "    return x\n",
    "\n",
    "def build_vgg16_unet(input_shape):\n",
    "    \"\"\" Input \"\"\"\n",
    "    inputs = Input(input_shape)\n",
    "\n",
    "    \"\"\" Pre-trained VGG16 Model \"\"\"\n",
    "    vgg16 = VGG16(include_top=False, weights=\"vgg16_weights_tf_dim_ordering_tf_kernels_notop.h5\", input_tensor=inputs)\n",
    "\n",
    "    \"\"\" Encoder \"\"\"\n",
    "    s1 = vgg16.get_layer(\"block1_conv2\").output         ## (512 x 512)\n",
    "    s2 = vgg16.get_layer(\"block2_conv2\").output         ## (256 x 256)\n",
    "    s3 = vgg16.get_layer(\"block3_conv3\").output         ## (128 x 128)\n",
    "    s4 = vgg16.get_layer(\"block4_conv3\").output         ## (64 x 64)\n",
    "\n",
    "    \"\"\" Bridge \"\"\"\n",
    "    b1 = vgg16.get_layer(\"block5_conv3\").output         ## (32 x 32)\n",
    "\n",
    "    \"\"\" Decoder \"\"\"\n",
    "    d1 = decoder_block(b1, s4, 512)                     ## (64 x 64)\n",
    "    d2 = decoder_block(d1, s3, 256)                     ## (128 x 128)\n",
    "    d3 = decoder_block(d2, s2, 128)                     ## (256 x 256)\n",
    "    d4 = decoder_block(d3, s1, 64)                      ## (512 x 512)\n",
    "\n",
    "    \"\"\" Output \"\"\"\n",
    "    outputs = Conv2D(1, 1, padding=\"same\", activation=\"sigmoid\")(d4)\n",
    "\n",
    "    model = Model(inputs, outputs, name=\"VGG16_U-Net\")\n",
    "    return model\n"
   ]
  },
  {
   "cell_type": "code",
   "execution_count": null,
   "metadata": {},
   "outputs": [],
   "source": [
    "input_shape = (IMG_HEIGHT, IMG_WIDTH, IMG_CHANNELS)\n",
    "model_vgg_1 = build_vgg16_unet(input_shape)\n",
    "model_vgg_1.compile(optimizer = Adam(learning_rate=0.001), loss = 'binary_crossentropy', metrics = ['accuracy',tf.keras.metrics.MeanIoU(num_classes=2)])"
   ]
  },
  {
   "cell_type": "code",
   "execution_count": null,
   "metadata": {},
   "outputs": [],
   "source": [
    "\n",
    "checkpointer = ModelCheckpoint('model-vgg-100.h5', verbose=1, save_best_only=True)\n",
    "earlystopper = EarlyStopping(monitor='val_loss', patience=6, verbose=1)\n",
    "history = model_vgg_1.fit(\n",
    "            X_train,\n",
    "            Y_train,\n",
    "            validation_split=0.2,\n",
    "            batch_size=4,\n",
    "            epochs=100, \n",
    "            callbacks=[checkpointer])"
   ]
  },
  {
   "cell_type": "code",
   "execution_count": null,
   "metadata": {},
   "outputs": [],
   "source": [
    "model_vgg_1.save('model-vgg-100.h5')\n",
    "\n",
    "for i in range(0,len(X_test)-1):\n",
    "    x= X_test[i]\n",
    "    x = np.expand_dims(x, axis=0)\n",
    "    predict = model_vgg_1.predict(x)\n",
    "    predict = np.squeeze(predict)\n",
    "    predict =(predict>0.5).astype(np.uint8)\n",
    "    plt.figure(figsize=(12,6))\n",
    "    plt.subplot(131)\n",
    "    plt.imshow(predict)\n",
    "    plt.subplot(132)\n",
    "    imshow(Y_test[i].astype(np.uint8))\n",
    "    plt.subplot(133)\n",
    "    imshow(X_test[i].astype(np.uint8))\n",
    "    plt.show()"
   ]
  },
  {
   "cell_type": "code",
   "execution_count": null,
   "metadata": {},
   "outputs": [],
   "source": [
    "# PLOT LOSS AND ACCURACY\n",
    "%matplotlib inline\n",
    "\n",
    "import matplotlib.image  as mpimg\n",
    "import matplotlib.pyplot as plt\n",
    "\n",
    "#-----------------------------------------------------------\n",
    "# Retrieve a list of list results on training and test data\n",
    "# sets for each training epoch\n",
    "#-----------------------------------------------------------\n",
    "acc=history.history['accuracy']\n",
    "val_acc=history.history['val_accuracy']\n",
    "loss=history.history['loss']\n",
    "val_loss=history.history['val_loss']\n",
    "\n",
    "epochs=range(len(acc)) # Get number of epochs\n",
    "\n",
    "#------------------------------------------------\n",
    "# Plot training and validation accuracy per epoch\n",
    "#------------------------------------------------\n",
    "plt.plot(epochs, acc, 'r', \"Training Accuracy\")\n",
    "plt.plot(epochs, val_acc, 'b', \"Validation Accuracy\")\n",
    "plt.title('Training and validation accuracy')\n",
    "plt.figure()\n",
    "\n",
    "#------------------------------------------------\n",
    "# Plot training and validation loss per epoch\n",
    "#------------------------------------------------\n",
    "plt.plot(epochs, loss, 'r', \"Training Loss\")\n",
    "plt.plot(epochs, val_loss, 'b', \"Validation Loss\")\n",
    "\n",
    "\n",
    "plt.title('Training and validation loss')"
   ]
  },
  {
   "cell_type": "code",
   "execution_count": null,
   "metadata": {},
   "outputs": [],
   "source": [
    "X_train_aug = np.zeros((len(train_img_ids) * 4, IMG_HEIGHT, IMG_WIDTH, IMG_CHANNELS), dtype=np.float32)\n",
    "Y_train_aug = np.zeros((len(train_img_ids) * 4, IMG_HEIGHT, IMG_WIDTH, 1), dtype=bool)\n",
    "\n",
    "for i in range(0, len(X_train)):\n",
    "    X_train_aug[i * 4] = X_train[i]\n",
    "    Y_train_aug[i * 4] = Y_train[i]\n",
    "    X_train_aug[i * 4 + 1] = X_train[i]\n",
    "    Y_train_aug[i * 4 + 1] = Y_train[i]\n",
    "    X_train_aug[i * 4 + 2] = X_train[i]\n",
    "    Y_train_aug[i * 4 + 2] = Y_train[i]\n",
    "    X_train_aug[i * 4 + 3] = X_train[i]\n",
    "    Y_train_aug[i * 4 + 3] = Y_train[i]\n",
    "\n",
    "seq =iaa.Sequential([\n",
    "    iaa.OneOf([iaa.Affine(translate_px={\"x\": (-10, 10), \"y\": (-10, 10)}), \n",
    "               iaa.Affine(rotate=(-90, 90)),\n",
    "               iaa.Affine(shear=(-20, 20)),\n",
    "               iaa.Crop(percent=(0, 0.15))\n",
    "        ]),\n",
    "    iaa.SomeOf((0,4),[\n",
    "        iaa.Fliplr(1.0), # horizontally flip\n",
    "        iaa.Flipud(1.0),# Vertical flip\n",
    "        iaa.Add((-20,20)),\n",
    "        iaa.Multiply((0.5, 1.5)),\n",
    "        iaa.Sharpen(alpha=(0, 0.4), lightness=(0.5, 1.5)), # sharpen images        \n",
    "        iaa.GaussianBlur(sigma=(0, 0.2)),\n",
    "#         iaa.AdditiveGaussianNoise(scale=(0, 0.2*255))\n",
    "    ])\n",
    "], \n",
    "random_order=True # apply the augmentations in random order\n",
    ")\n",
    "X_train_aug, Y_train_aug = seq(images=X_train_aug, segmentation_maps=Y_train_aug)\n"
   ]
  },
  {
   "cell_type": "code",
   "execution_count": 80,
   "metadata": {},
   "outputs": [],
   "source": [
    "model_2 = build_vgg16_unet(input_shape)\n",
    "model_2.compile(optimizer = Adam(learning_rate=0.001), loss = 'binary_crossentropy', metrics = ['accuracy',tf.keras.metrics.MeanIoU(num_classes=2)])"
   ]
  },
  {
   "cell_type": "code",
   "execution_count": 81,
   "metadata": {},
   "outputs": [],
   "source": [
    "input_shape = (IMG_HEIGHT, IMG_WIDTH, IMG_CHANNELS)\n",
    "model_vgg = build_vgg16_unet(input_shape)\n",
    "model_vgg.compile(optimizer = Adam(), loss = 'binary_crossentropy', metrics = ['accuracy'])"
   ]
  },
  {
   "cell_type": "code",
   "execution_count": null,
   "metadata": {},
   "outputs": [
    {
     "name": "stdout",
     "output_type": "stream",
     "text": [
      "Epoch 1/5\n",
      " 9/20 [============>.................] - ETA: 2:06 - loss: 0.4451 - accuracy: 0.7983"
     ]
    }
   ],
   "source": [
    "checkpointer = ModelCheckpoint('model-vgg-aug-100.h5', verbose=1, save_best_only=True)\n",
    "earlystopper = EarlyStopping(monitor='val_loss', patience=2, verbose=1)\n",
    "history = model_2.fit(\n",
    "            X_train_aug,\n",
    "            Y_train_aug,\n",
    "            validation_split=0.2,\n",
    "            batch_size=4,\n",
    "            epochs=100, \n",
    "            callbacks=[checkpointer])"
   ]
  },
  {
   "cell_type": "code",
   "execution_count": null,
   "metadata": {
    "scrolled": true
   },
   "outputs": [],
   "source": [
    "model_2.save('model-vgg-100.h5')\n",
    "import random\n",
    "for i in range(0,len(X_test)-1):\n",
    "    x= X_test[i]\n",
    "    x = np.expand_dims(x, axis=0)\n",
    "    predict = model_2.predict(x)\n",
    "    predict = np.squeeze(predict)\n",
    "    predict =(predict>0.5).astype(np.uint8)\n",
    "    plt.figure(figsize=(12,6))\n",
    "    plt.subplot(131)\n",
    "    plt.imshow(predict)\n",
    "    plt.subplot(132)\n",
    "    imshow(Y_test[i].astype(np.uint8))\n",
    "    plt.subplot(133)\n",
    "    imshow(X_test[i].astype(np.uint8))\n",
    "    plt.show()"
   ]
  },
  {
   "cell_type": "code",
   "execution_count": null,
   "metadata": {},
   "outputs": [],
   "source": []
  },
  {
   "cell_type": "code",
   "execution_count": null,
   "metadata": {},
   "outputs": [],
   "source": []
  }
 ],
 "metadata": {
  "kernelspec": {
   "display_name": "Python 3",
   "language": "python",
   "name": "python3"
  },
  "language_info": {
   "codemirror_mode": {
    "name": "ipython",
    "version": 3
   },
   "file_extension": ".py",
   "mimetype": "text/x-python",
   "name": "python",
   "nbconvert_exporter": "python",
   "pygments_lexer": "ipython3",
   "version": "3.8.10"
  }
 },
 "nbformat": 4,
 "nbformat_minor": 2
}
